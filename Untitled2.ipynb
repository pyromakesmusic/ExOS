{
 "cells": [
  {
   "cell_type": "code",
   "execution_count": null,
   "id": "89c40460-ec3c-42aa-b1f2-f339e687ca74",
   "metadata": {},
   "outputs": [],
   "source": []
  }
 ],
 "metadata": {
  "kernelspec": {
   "display_name": "",
   "name": ""
  },
  "language_info": {
   "name": ""
  }
 },
 "nbformat": 4,
 "nbformat_minor": 5
}
